{
 "cells": [
  {
   "cell_type": "code",
   "execution_count": 1,
   "id": "c5d8b986",
   "metadata": {},
   "outputs": [
    {
     "name": "stdout",
     "output_type": "stream",
     "text": [
      "• Using TensorFlow Version: 2.12.0\n"
     ]
    }
   ],
   "source": [
    "import tensorflow as tf\n",
    "\n",
    "print('\\u2022 Using TensorFlow Version:', tf.__version__)"
   ]
  },
  {
   "cell_type": "code",
   "execution_count": 2,
   "id": "ddaff227",
   "metadata": {},
   "outputs": [
    {
     "data": {
      "text/plain": [
       "['FreshApple',\n",
       " 'FreshBanana',\n",
       " 'FreshMango',\n",
       " 'FreshOrange',\n",
       " 'FreshStrawberry',\n",
       " 'RottenApple',\n",
       " 'RottenBanana',\n",
       " 'RottenMango',\n",
       " 'RottenOrange',\n",
       " 'RottenStrawberry']"
      ]
     },
     "execution_count": 2,
     "metadata": {},
     "output_type": "execute_result"
    }
   ],
   "source": [
    "import os\n",
    "import tensorflow as tf\n",
    "os.listdir('Fruits')"
   ]
  },
  {
   "cell_type": "code",
   "execution_count": 3,
   "id": "d846c136",
   "metadata": {},
   "outputs": [],
   "source": [
    "base_dir ='Fruits'\n",
    "train_dir = os.path.join(base_dir, 'train')\n",
    "validation_dir = os.path.join(base_dir, 'val')"
   ]
  },
  {
   "cell_type": "code",
   "execution_count": 4,
   "id": "a33ab77d",
   "metadata": {},
   "outputs": [],
   "source": [
    "fresh_apple_dir = os.path.join(base_dir, 'FreshApple')\n",
    "fresh_banana_dir = os.path.join(base_dir, 'FreshBanana')\n",
    "fresh_mango_dir = os.path.join(base_dir, 'FreshMango')\n",
    "fresh_orange_dir = os.path.join(base_dir, 'FreshOrange')\n",
    "fresh_strawberry_dir = os.path.join(base_dir, 'FreshStrawberry')\n",
    "rotten_apple_dir = os.path.join(base_dir, 'RottenApple')\n",
    "rotten_banana_dir = os.path.join(base_dir, 'RottenBanana')\n",
    "rotten_mango_dir = os.path.join(base_dir, 'RottenMango')\n",
    "rotten_orange_dir = os.path.join(base_dir, 'RottenOrange')\n",
    "rotten_strawberry_dir = os.path.join(base_dir, 'RottenStrawberry')"
   ]
  },
  {
   "cell_type": "code",
   "execution_count": 5,
   "id": "b9ca4412",
   "metadata": {},
   "outputs": [
    {
     "name": "stdout",
     "output_type": "stream",
     "text": [
      "Found 4795 images belonging to 10 classes.\n",
      "Found 1193 images belonging to 10 classes.\n"
     ]
    }
   ],
   "source": [
    "import tensorflow as tf\n",
    "from tensorflow.keras.preprocessing.image import ImageDataGenerator\n",
    "\n",
    "train_datagen = ImageDataGenerator(\n",
    "                    rescale=1.0/255,\n",
    "                    rotation_range=40,\n",
    "                    width_shift_range=0.2,\n",
    "                    height_shift_range=0.2,\n",
    "                    shear_range=0.2,\n",
    "                    zoom_range=0.2,\n",
    "                    horizontal_flip=True,\n",
    "                    vertical_flip= True,\n",
    "                    fill_mode='nearest',\n",
    "                    validation_split=0.2\n",
    "                    )\n",
    "\n",
    "train_generator = train_datagen.flow_from_directory(\n",
    "                      base_dir, \n",
    "                      target_size= (150, 150),  \n",
    "                      batch_size= 32,\n",
    "                      shuffle = True,\n",
    "                      subset = 'training',\n",
    "                      class_mode= 'categorical' \n",
    "                      )\n",
    "\n",
    "\n",
    "validation_generator = train_datagen.flow_from_directory(\n",
    "                          base_dir, \n",
    "                          target_size= (150, 150),\n",
    "                          batch_size= 32, \n",
    "                          shuffle = True,\n",
    "                          subset = 'validation',\n",
    "                          class_mode= 'categorical'\n",
    "                          )"
   ]
  },
  {
   "cell_type": "code",
   "execution_count": 6,
   "id": "8e40d1bc",
   "metadata": {},
   "outputs": [
    {
     "name": "stdout",
     "output_type": "stream",
     "text": [
      "Model: \"sequential\"\n",
      "_________________________________________________________________\n",
      " Layer (type)                Output Shape              Param #   \n",
      "=================================================================\n",
      " conv2d (Conv2D)             (None, 148, 148, 64)      1792      \n",
      "                                                                 \n",
      " max_pooling2d (MaxPooling2D  (None, 74, 74, 64)       0         \n",
      " )                                                               \n",
      "                                                                 \n",
      " conv2d_1 (Conv2D)           (None, 72, 72, 128)       73856     \n",
      "                                                                 \n",
      " max_pooling2d_1 (MaxPooling  (None, 36, 36, 128)      0         \n",
      " 2D)                                                             \n",
      "                                                                 \n",
      " conv2d_2 (Conv2D)           (None, 34, 34, 512)       590336    \n",
      "                                                                 \n",
      " max_pooling2d_2 (MaxPooling  (None, 17, 17, 512)      0         \n",
      " 2D)                                                             \n",
      "                                                                 \n",
      " conv2d_3 (Conv2D)           (None, 15, 15, 1024)      4719616   \n",
      "                                                                 \n",
      " max_pooling2d_3 (MaxPooling  (None, 7, 7, 1024)       0         \n",
      " 2D)                                                             \n",
      "                                                                 \n",
      " flatten (Flatten)           (None, 50176)             0         \n",
      "                                                                 \n",
      " dense (Dense)               (None, 256)               12845312  \n",
      "                                                                 \n",
      " dropout (Dropout)           (None, 256)               0         \n",
      "                                                                 \n",
      " dense_1 (Dense)             (None, 10)                2570      \n",
      "                                                                 \n",
      "=================================================================\n",
      "Total params: 18,233,482\n",
      "Trainable params: 18,233,482\n",
      "Non-trainable params: 0\n",
      "_________________________________________________________________\n"
     ]
    }
   ],
   "source": [
    "from tensorflow.keras.models import Sequential\n",
    "from tensorflow.keras.layers import Dense, Dropout, Conv2D, Activation, Flatten, MaxPool2D\n",
    "from tensorflow.keras.applications import ResNet50\n",
    "\n",
    "\n",
    "model = tf.keras.models.Sequential([\n",
    "    tf.keras.layers.Conv2D(64, (3,3), activation='relu', input_shape=(150, 150, 3)),\n",
    "    tf.keras.layers.MaxPooling2D(2,2),\n",
    "    tf.keras.layers.Conv2D(128, (3,3), activation='relu'),\n",
    "    tf.keras.layers.MaxPooling2D(2,2),\n",
    "    tf.keras.layers.Conv2D(512, (3,3), activation='relu'),\n",
    "    tf.keras.layers.MaxPooling2D(2,2),\n",
    "    tf.keras.layers.Conv2D(1024, (3,3), activation='relu'),\n",
    "    tf.keras.layers.MaxPooling2D(2,2),\n",
    "    tf.keras.layers.Flatten(),\n",
    "    \n",
    "    tf.keras.layers.Dense(256, activation='relu'),\n",
    "    tf.keras.layers.Dropout(0.5),\n",
    "    #tf.keras.layers.Dense(256, activation='relu'),\n",
    "    tf.keras.layers.Dense(10, activation='softmax')\n",
    "])\n",
    "\n",
    "model.summary()"
   ]
  },
  {
   "cell_type": "code",
   "execution_count": 7,
   "id": "15953519",
   "metadata": {},
   "outputs": [],
   "source": [
    "model.compile(loss = 'categorical_crossentropy',\n",
    "              optimizer= tf.optimizers.Adam(), \n",
    "              metrics= ['accuracy'])\n"
   ]
  },
  {
   "cell_type": "code",
   "execution_count": 8,
   "id": "cfdb42cb",
   "metadata": {},
   "outputs": [],
   "source": [
    "class myCallback(tf.keras.callbacks.Callback): \n",
    "    def on_epoch_end(self, epoch, logs={}): \n",
    "        if(logs.get('accuracy') > 0.95 and logs.get('val_accuracy') > 0.95):\n",
    "            print(\"\\nakurasi lebih besar dari 96%. maka training berhenti!\") \n",
    "            self.model.stop_training = True \n",
    " \n",
    "callbacks = myCallback()"
   ]
  },
  {
   "cell_type": "code",
   "execution_count": null,
   "id": "a972a661",
   "metadata": {
    "scrolled": true
   },
   "outputs": [
    {
     "name": "stdout",
     "output_type": "stream",
     "text": [
      "Epoch 1/30\n",
      "150/150 - 670s - loss: 2.2018 - accuracy: 0.1894 - val_loss: 2.0098 - val_accuracy: 0.2967 - 670s/epoch - 4s/step\n",
      "Epoch 2/30\n",
      "150/150 - 633s - loss: 1.7795 - accuracy: 0.3689 - val_loss: 1.6840 - val_accuracy: 0.3738 - 633s/epoch - 4s/step\n",
      "Epoch 3/30\n",
      "150/150 - 705s - loss: 1.5244 - accuracy: 0.4688 - val_loss: 1.4643 - val_accuracy: 0.4786 - 705s/epoch - 5s/step\n",
      "Epoch 4/30\n",
      "150/150 - 749s - loss: 1.2960 - accuracy: 0.5447 - val_loss: 1.3648 - val_accuracy: 0.5423 - 749s/epoch - 5s/step\n",
      "Epoch 5/30\n",
      "150/150 - 717s - loss: 1.1174 - accuracy: 0.6190 - val_loss: 1.2993 - val_accuracy: 0.5390 - 717s/epoch - 5s/step\n",
      "Epoch 6/30\n",
      "150/150 - 710s - loss: 0.9826 - accuracy: 0.6636 - val_loss: 1.2610 - val_accuracy: 0.5432 - 710s/epoch - 5s/step\n",
      "Epoch 7/30\n",
      "150/150 - 710s - loss: 0.8317 - accuracy: 0.7233 - val_loss: 0.9103 - val_accuracy: 0.6773 - 710s/epoch - 5s/step\n",
      "Epoch 8/30\n",
      "150/150 - 672s - loss: 0.7357 - accuracy: 0.7593 - val_loss: 0.7787 - val_accuracy: 0.7276 - 672s/epoch - 4s/step\n",
      "Epoch 9/30\n",
      "150/150 - 669s - loss: 0.6697 - accuracy: 0.7794 - val_loss: 0.7214 - val_accuracy: 0.7393 - 669s/epoch - 4s/step\n",
      "Epoch 10/30\n",
      "150/150 - 673s - loss: 0.6146 - accuracy: 0.7992 - val_loss: 0.9146 - val_accuracy: 0.6924 - 673s/epoch - 4s/step\n",
      "Epoch 11/30\n",
      "150/150 - 662s - loss: 0.5857 - accuracy: 0.8046 - val_loss: 0.7291 - val_accuracy: 0.7276 - 662s/epoch - 4s/step\n",
      "Epoch 12/30\n",
      "150/150 - 655s - loss: 0.4920 - accuracy: 0.8321 - val_loss: 0.8394 - val_accuracy: 0.7293 - 655s/epoch - 4s/step\n",
      "Epoch 13/30\n",
      "150/150 - 667s - loss: 0.4906 - accuracy: 0.8423 - val_loss: 0.7387 - val_accuracy: 0.7385 - 667s/epoch - 4s/step\n",
      "Epoch 14/30\n",
      "150/150 - 719s - loss: 0.4540 - accuracy: 0.8432 - val_loss: 0.6233 - val_accuracy: 0.7812 - 719s/epoch - 5s/step\n",
      "Epoch 15/30\n",
      "150/150 - 806s - loss: 0.4330 - accuracy: 0.8632 - val_loss: 0.6642 - val_accuracy: 0.7628 - 806s/epoch - 5s/step\n",
      "Epoch 16/30\n",
      "150/150 - 680s - loss: 0.3945 - accuracy: 0.8707 - val_loss: 0.6961 - val_accuracy: 0.7712 - 680s/epoch - 5s/step\n",
      "Epoch 17/30\n",
      "150/150 - 800s - loss: 0.3999 - accuracy: 0.8713 - val_loss: 0.5809 - val_accuracy: 0.7938 - 800s/epoch - 5s/step\n",
      "Epoch 18/30\n",
      "150/150 - 707s - loss: 0.3864 - accuracy: 0.8761 - val_loss: 0.6309 - val_accuracy: 0.7779 - 707s/epoch - 5s/step\n",
      "Epoch 19/30\n",
      "150/150 - 671s - loss: 0.3625 - accuracy: 0.8809 - val_loss: 0.4361 - val_accuracy: 0.8609 - 671s/epoch - 4s/step\n",
      "Epoch 20/30\n",
      "150/150 - 659s - loss: 0.3641 - accuracy: 0.8776 - val_loss: 0.5183 - val_accuracy: 0.8265 - 659s/epoch - 4s/step\n",
      "Epoch 21/30\n",
      "150/150 - 667s - loss: 0.3238 - accuracy: 0.8918 - val_loss: 0.4777 - val_accuracy: 0.8357 - 667s/epoch - 4s/step\n",
      "Epoch 22/30\n",
      "150/150 - 684s - loss: 0.3265 - accuracy: 0.8936 - val_loss: 0.6280 - val_accuracy: 0.8097 - 684s/epoch - 5s/step\n",
      "Epoch 23/30\n",
      "150/150 - 684s - loss: 0.2918 - accuracy: 0.9070 - val_loss: 0.5458 - val_accuracy: 0.8324 - 684s/epoch - 5s/step\n",
      "Epoch 24/30\n",
      "150/150 - 682s - loss: 0.3103 - accuracy: 0.8943 - val_loss: 0.6010 - val_accuracy: 0.8181 - 682s/epoch - 5s/step\n",
      "Epoch 25/30\n",
      "150/150 - 682s - loss: 0.2987 - accuracy: 0.9028 - val_loss: 0.5423 - val_accuracy: 0.8324 - 682s/epoch - 5s/step\n",
      "Epoch 26/30\n",
      "150/150 - 682s - loss: 0.3214 - accuracy: 0.9009 - val_loss: 0.4634 - val_accuracy: 0.8575 - 682s/epoch - 5s/step\n",
      "Epoch 27/30\n",
      "150/150 - 685s - loss: 0.2804 - accuracy: 0.9107 - val_loss: 0.3795 - val_accuracy: 0.8835 - 685s/epoch - 5s/step\n",
      "Epoch 28/30\n"
     ]
    }
   ],
   "source": [
    "history = model.fit(\n",
    "          train_generator,\n",
    "          epochs=30, \n",
    "          steps_per_epoch=len(train_generator),\n",
    "          validation_data=validation_generator,\n",
    "          validation_steps=len(validation_generator),\n",
    "          verbose=2,\n",
    "          callbacks = [callbacks])"
   ]
  },
  {
   "cell_type": "code",
   "execution_count": null,
   "id": "b0842b62",
   "metadata": {},
   "outputs": [],
   "source": [
    "loss = model.evaluate(validation_generator, steps=len(validation_generator))"
   ]
  }
 ],
 "metadata": {
  "kernelspec": {
   "display_name": "Python 3 (ipykernel)",
   "language": "python",
   "name": "python3"
  },
  "language_info": {
   "codemirror_mode": {
    "name": "ipython",
    "version": 3
   },
   "file_extension": ".py",
   "mimetype": "text/x-python",
   "name": "python",
   "nbconvert_exporter": "python",
   "pygments_lexer": "ipython3",
   "version": "3.10.9"
  }
 },
 "nbformat": 4,
 "nbformat_minor": 5
}
